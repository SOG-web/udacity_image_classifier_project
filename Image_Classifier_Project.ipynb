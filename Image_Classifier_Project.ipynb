{
  "cells": [
    {
      "cell_type": "markdown",
      "metadata": {
        "id": "bjVRw-deSUMo"
      },
      "source": [
        "# Developing an AI application\n",
        "\n",
        "Going forward, AI algorithms will be incorporated into more and more everyday applications. For example, you might want to include an image classifier in a smart phone app. To do this, you'd use a deep learning model trained on hundreds of thousands of images as part of the overall application architecture. A large part of software development in the future will be using these types of models as common parts of applications.\n",
        "\n",
        "In this project, you'll train an image classifier to recognize different species of flowers. You can imagine using something like this in a phone app that tells you the name of the flower your camera is looking at. In practice you'd train this classifier, then export it for use in your application. We'll be using [this dataset](http://www.robots.ox.ac.uk/~vgg/data/flowers/102/index.html) of 102 flower categories, you can see a few examples below.\n",
        "\n",
        "<img src='https://github.com/SOG-web/udacity_image_classifier_project/blob/main/assets/Flowers.png?raw=1' width=500px>\n",
        "\n",
        "The project is broken down into multiple steps:\n",
        "\n",
        "* Load and preprocess the image dataset\n",
        "* Train the image classifier on your dataset\n",
        "* Use the trained classifier to predict image content\n",
        "\n",
        "We'll lead you through each part which you'll implement in Python.\n",
        "\n",
        "When you've completed this project, you'll have an application that can be trained on any set of labeled images. Here your network will be learning about flowers and end up as a command line application. But, what you do with your new skills depends on your imagination and effort in building a dataset. For example, imagine an app where you take a picture of a car, it tells you what the make and model is, then looks up information about it. Go build your own dataset and make something new.\n",
        "\n",
        "First up is importing the packages you'll need. It's good practice to keep all the imports at the beginning of your code. As you work through this notebook and find you need to import a package, make sure to add the import up here."
      ]
    },
    {
      "cell_type": "code",
      "execution_count": 5,
      "metadata": {
        "id": "cTg4K_gmSUMr"
      },
      "outputs": [],
      "source": [
        "import torch\n",
        "import numpy as np\n",
        "from torch import nn\n",
        "from torch import optim\n",
        "import torch.nn.functional as F\n",
        "from torchvision import datasets, transforms, models\n",
        "import json\n",
        "from collections import OrderedDict\n",
        "import time\n",
        "import numpy as np\n",
        "from PIL import Image\n",
        "import matplotlib.pyplot as plt\n",
        "import os\n",
        "import urllib.request\n",
        "import tarfile"
      ]
    },
    {
      "cell_type": "markdown",
      "metadata": {
        "id": "NH9__osMSUMt"
      },
      "source": [
        "## Load the data\n",
        "\n",
        "Here you'll use `torchvision` to load the data ([documentation](http://pytorch.org/docs/0.3.0/torchvision/index.html)). The data should be included alongside this notebook, otherwise you can [download it here](https://s3.amazonaws.com/content.udacity-data.com/nd089/flower_data.tar.gz). The dataset is split into three parts, training, validation, and testing. For the training, you'll want to apply transformations such as random scaling, cropping, and flipping. This will help the network generalize leading to better performance. You'll also need to make sure the input data is resized to 224x224 pixels as required by the pre-trained networks.\n",
        "\n",
        "The validation and testing sets are used to measure the model's performance on data it hasn't seen yet. For this you don't want any scaling or rotation transformations, but you'll need to resize then crop the images to the appropriate size.\n",
        "\n",
        "The pre-trained networks you'll use were trained on the ImageNet dataset where each color channel was normalized separately. For all three sets you'll need to normalize the means and standard deviations of the images to what the network expects. For the means, it's `[0.485, 0.456, 0.406]` and for the standard deviations `[0.229, 0.224, 0.225]`, calculated from the ImageNet images.  These values will shift each color channel to be centered at 0 and range from -1 to 1.\n"
      ]
    },
    {
      "cell_type": "code",
      "execution_count": 6,
      "metadata": {
        "id": "3vcWK5X0SUMt"
      },
      "outputs": [],
      "source": [
        "# Downloading and extracting the flower dataset\n",
        "def download_and_extract_data(url, destination_folder):\n",
        "    if not os.path.exists(destination_folder):\n",
        "        os.makedirs(destination_folder)\n",
        "\n",
        "    filename = url.split('/')[-1]\n",
        "    urllib.request.urlretrieve(url, os.path.join(destination_folder, filename))\n",
        "\n",
        "    with tarfile.open(os.path.join(destination_folder, filename), 'r:gz') as tar:\n",
        "        tar.extractall(destination_folder)\n",
        "\n",
        "# Setting up directories for training, validation, and testing\n",
        "data_dir = 'flowers'\n",
        "train_dir = os.path.join(data_dir, 'train')\n",
        "valid_dir = os.path.join(data_dir, 'valid')\n",
        "test_dir = os.path.join(data_dir, 'test')\n",
        "\n",
        "\n",
        "download_and_extract_data('https://s3.amazonaws.com/content.udacity-data.com/nd089/flower_data.tar.gz', 'flowers')"
      ]
    },
    {
      "cell_type": "code",
      "execution_count": 7,
      "metadata": {
        "id": "gmQRhf4USUMt"
      },
      "outputs": [],
      "source": [
        "# Define transformations for training, validation, and testing sets\n",
        "def get_data_transforms():\n",
        "    return {\n",
        "        'train': transforms.Compose([\n",
        "            transforms.RandomRotation(30),\n",
        "            transforms.RandomResizedCrop(224),\n",
        "            transforms.RandomHorizontalFlip(),\n",
        "            transforms.ToTensor(),\n",
        "            transforms.Normalize([0.485, 0.456, 0.406], [0.229, 0.224, 0.225])\n",
        "        ]),\n",
        "        'valid': transforms.Compose([\n",
        "            transforms.Resize(255),\n",
        "            transforms.CenterCrop(224),\n",
        "            transforms.ToTensor(),\n",
        "            transforms.Normalize([0.485, 0.456, 0.406], [0.229, 0.224, 0.225])\n",
        "        ]),\n",
        "        'test': transforms.Compose([\n",
        "            transforms.Resize(255),\n",
        "            transforms.CenterCrop(224),\n",
        "            transforms.ToTensor(),\n",
        "            transforms.Normalize([0.485, 0.456, 0.406], [0.229, 0.224, 0.225])\n",
        "        ])\n",
        "    }\n",
        "\n",
        "\n",
        "# Loading datasets using ImageFolder\n",
        "def load_datasets(data_dir, transforms):\n",
        "    from torchvision import datasets\n",
        "    return {\n",
        "        'train': datasets.ImageFolder(root=os.path.join(data_dir, 'train'), transform=transforms['train']),\n",
        "        'valid': datasets.ImageFolder(root=os.path.join(data_dir, 'valid'), transform=transforms['valid']),\n",
        "        'test': datasets.ImageFolder(root=os.path.join(data_dir, 'test'), transform=transforms['test'])\n",
        "    }\n",
        "\n",
        "\n",
        "# Creating data loaders\n",
        "def create_data_loaders(datasets):\n",
        "    return {\n",
        "        'train': torch.utils.data.DataLoader(datasets['train'], batch_size=64, shuffle=True),\n",
        "        'valid': torch.utils.data.DataLoader(datasets['valid'], batch_size=64),\n",
        "        'test': torch.utils.data.DataLoader(datasets['test'], batch_size=64)\n",
        "    }\n",
        "\n",
        "\n",
        "transforms = get_data_transforms()\n",
        "datasets = load_datasets(data_dir, transforms)\n",
        "data_loaders = create_data_loaders(datasets)"
      ]
    },
    {
      "cell_type": "markdown",
      "metadata": {
        "id": "jtcY5v_bSUMu"
      },
      "source": [
        "### Label mapping\n",
        "\n",
        "You'll also need to load in a mapping from category label to category name. You can find this in the file `cat_to_name.json`. It's a JSON object which you can read in with the [`json` module](https://docs.python.org/2/library/json.html). This will give you a dictionary mapping the integer encoded categories to the actual names of the flowers."
      ]
    },
    {
      "cell_type": "code",
      "execution_count": 10,
      "metadata": {
        "id": "5BgZUur6SUMu",
        "outputId": "7e0cb8d0-7d9a-4bb3-b9b3-41772ebd4b93",
        "colab": {
          "base_uri": "https://localhost:8080/"
        }
      },
      "outputs": [
        {
          "output_type": "stream",
          "name": "stdout",
          "text": [
            "{'21': 'fire lily', '3': 'canterbury bells', '45': 'bolero deep blue', '1': 'pink primrose', '34': 'mexican aster', '27': 'prince of wales feathers', '7': 'moon orchid', '16': 'globe-flower', '25': 'grape hyacinth', '26': 'corn poppy', '79': 'toad lily', '39': 'siam tulip', '24': 'red ginger', '67': 'spring crocus', '35': 'alpine sea holly', '32': 'garden phlox', '10': 'globe thistle', '6': 'tiger lily', '93': 'ball moss', '33': 'love in the mist', '9': 'monkshood', '102': 'blackberry lily', '14': 'spear thistle', '19': 'balloon flower', '100': 'blanket flower', '13': 'king protea', '49': 'oxeye daisy', '15': 'yellow iris', '61': 'cautleya spicata', '31': 'carnation', '64': 'silverbush', '68': 'bearded iris', '63': 'black-eyed susan', '69': 'windflower', '62': 'japanese anemone', '20': 'giant white arum lily', '38': 'great masterwort', '4': 'sweet pea', '86': 'tree mallow', '101': 'trumpet creeper', '42': 'daffodil', '22': 'pincushion flower', '2': 'hard-leaved pocket orchid', '54': 'sunflower', '66': 'osteospermum', '70': 'tree poppy', '85': 'desert-rose', '99': 'bromelia', '87': 'magnolia', '5': 'english marigold', '92': 'bee balm', '28': 'stemless gentian', '97': 'mallow', '57': 'gaura', '40': 'lenten rose', '47': 'marigold', '59': 'orange dahlia', '48': 'buttercup', '55': 'pelargonium', '36': 'ruby-lipped cattleya', '91': 'hippeastrum', '29': 'artichoke', '71': 'gazania', '90': 'canna lily', '18': 'peruvian lily', '98': 'mexican petunia', '8': 'bird of paradise', '30': 'sweet william', '17': 'purple coneflower', '52': 'wild pansy', '84': 'columbine', '12': \"colt's foot\", '11': 'snapdragon', '96': 'camellia', '23': 'fritillary', '50': 'common dandelion', '44': 'poinsettia', '53': 'primula', '72': 'azalea', '65': 'californian poppy', '80': 'anthurium', '76': 'morning glory', '37': 'cape flower', '56': 'bishop of llandaff', '60': 'pink-yellow dahlia', '82': 'clematis', '58': 'geranium', '75': 'thorn apple', '41': 'barbeton daisy', '95': 'bougainvillea', '43': 'sword lily', '83': 'hibiscus', '78': 'lotus lotus', '88': 'cyclamen', '94': 'foxglove', '81': 'frangipani', '74': 'rose', '89': 'watercress', '73': 'water lily', '46': 'wallflower', '77': 'passion flower', '51': 'petunia'}\n"
          ]
        }
      ],
      "source": [
        "# Defining the mapping from category label to category name\n",
        "def get_category_mapping(json_file):\n",
        "    with open(json_file, 'r') as f:\n",
        "        return json.load(f)\n",
        "\n",
        "\n",
        "cat_to_name = get_category_mapping('cat_to_name.json')\n",
        "# prints json file\n",
        "print(cat_to_name)\n",
        "\n",
        "no_output_categories = len(cat_to_name)"
      ]
    },
    {
      "cell_type": "markdown",
      "metadata": {
        "id": "4uMwJOciSUMu"
      },
      "source": [
        "# Building and training the classifier\n",
        "\n",
        "Now that the data is ready, it's time to build and train the classifier. As usual, you should use one of the pretrained models from `torchvision.models` to get the image features. Build and train a new feed-forward classifier using those features.\n",
        "\n",
        "We're going to leave this part up to you. Refer to [the rubric](https://review.udacity.com/#!/rubrics/1663/view) for guidance on successfully completing this section. Things you'll need to do:\n",
        "\n",
        "* Load a [pre-trained network](http://pytorch.org/docs/master/torchvision/models.html) (If you need a starting point, the VGG networks work great and are straightforward to use)\n",
        "* Define a new, untrained feed-forward network as a classifier, using ReLU activations and dropout\n",
        "* Train the classifier layers using backpropagation using the pre-trained network to get the features\n",
        "* Track the loss and accuracy on the validation set to determine the best hyperparameters\n",
        "\n",
        "We've left a cell open for you below, but use as many as you need. Our advice is to break the problem up into smaller parts you can run separately. Check that each part is doing what you expect, then move on to the next. You'll likely find that as you work through each part, you'll need to go back and modify your previous code. This is totally normal!\n",
        "\n",
        "When training make sure you're updating only the weights of the feed-forward network. You should be able to get the validation accuracy above 70% if you build everything right. Make sure to try different hyperparameters (learning rate, units in the classifier, epochs, etc) to find the best model. Save those hyperparameters to use as default values in the next part of the project.\n",
        "\n",
        "One last important tip if you're using the workspace to run your code: To avoid having your workspace disconnect during the long-running tasks in this notebook, please read in the earlier page in this lesson called Intro to\n",
        "GPU Workspaces about Keeping Your Session Active. You'll want to include code from the workspace_utils.py module.\n",
        "\n",
        "**Note for Workspace users:** If your network is over 1 GB when saved as a checkpoint, there might be issues with saving backups in your workspace. Typically this happens with wide dense layers after the convolutional layers. If your saved checkpoint is larger than 1 GB (you can open a terminal and check with `ls -lh`), you should reduce the size of your hidden layers and train again."
      ]
    },
    {
      "cell_type": "code",
      "execution_count": null,
      "metadata": {
        "id": "XueOASx4SUMu",
        "outputId": "8d1d804e-ee61-4e4e-fe50-ef4ed9991bb2",
        "colab": {
          "base_uri": "https://localhost:8080/"
        }
      },
      "outputs": [
        {
          "output_type": "stream",
          "name": "stdout",
          "text": [
            "The device in use is cpu.\n",
            "\n",
            "Epoch 1/10 | Batch 20\n",
            "Running Training Loss: 4.815\n",
            "Running Training Accuracy: 11.80%\n",
            "Validation Loss: 3.243\n",
            "Validation Accuracy: 30.66%\n"
          ]
        }
      ],
      "source": [
        "# Building and training the network\n",
        "\n",
        "hidden_units = 4096\n",
        "model = models.vgg16_bn(pretrained=True)\n",
        "device = torch.device(\"cuda:0\" if torch.cuda.is_available() else \"cpu\")\n",
        "\n",
        "def build_and_train_model():\n",
        "\n",
        "    for param in model.parameters():\n",
        "        param.requires_grad = False\n",
        "\n",
        "    model.classifier = nn.Sequential(OrderedDict([\n",
        "        ('fc1', nn.Linear(25088, hidden_units)),\n",
        "        ('relu', nn.ReLU()),\n",
        "        ('dropout1', nn.Dropout(0.05)),\n",
        "        ('fc2', nn.Linear(hidden_units, no_output_categories)),\n",
        "        ('output', nn.LogSoftmax(dim=1))\n",
        "    ]))\n",
        "\n",
        "    model.to(device)\n",
        "    print(f'The device in use is {device}.\\n')\n",
        "\n",
        "    epochs = 10\n",
        "    optimizer = optim.Adam(model.classifier.parameters(), lr=.001)\n",
        "    criterion = nn.NLLLoss()\n",
        "\n",
        "    print_every = 20\n",
        "    running_loss = running_accuracy = 0\n",
        "    validation_losses, training_losses = [],[]\n",
        "\n",
        "    for e in range(epochs):\n",
        "        batches = 0\n",
        "\n",
        "        model.train()\n",
        "\n",
        "        for images, labels in data_loaders['train']:\n",
        "            start = time.time()\n",
        "            batches += 1\n",
        "\n",
        "            images, labels = images.to(device), labels.to(device)\n",
        "\n",
        "            log_ps = model.forward(images)\n",
        "            loss = criterion(log_ps, labels)\n",
        "            loss.backward()\n",
        "            optimizer.step()\n",
        "\n",
        "            ps = torch.exp(log_ps)\n",
        "            top_ps, top_class = ps.topk(1, dim=1)\n",
        "            matches = (top_class == labels.view(*top_class.shape)).type(torch.FloatTensor)\n",
        "            accuracy = matches.mean()\n",
        "\n",
        "            optimizer.zero_grad()\n",
        "            running_loss += loss.item()\n",
        "            running_accuracy += accuracy.item()\n",
        "\n",
        "            if batches % print_every == 0:\n",
        "                end = time.time()\n",
        "                training_time = end - start\n",
        "                start = time.time()\n",
        "\n",
        "                validation_loss = 0\n",
        "                validation_accuracy = 0\n",
        "\n",
        "                model.eval()\n",
        "                with torch.no_grad():\n",
        "                    for images, labels in data_loaders['valid']:\n",
        "                        images, labels = images.to(device), labels.to(device)\n",
        "                        log_ps = model.forward(images)\n",
        "                        loss = criterion(log_ps, labels)\n",
        "                        ps = torch.exp(log_ps)\n",
        "                        top_ps, top_class = ps.topk(1, dim=1)\n",
        "                        matches = (top_class == labels.view(*top_class.shape)).type(torch.FloatTensor)\n",
        "                        accuracy = matches.mean()\n",
        "\n",
        "                        validation_loss += loss.item()\n",
        "                        validation_accuracy += accuracy.item()\n",
        "\n",
        "                end = time.time()\n",
        "                validation_time = end - start\n",
        "                validation_losses.append(running_loss / print_every)\n",
        "                training_losses.append(validation_loss / len(data_loaders['valid']))\n",
        "\n",
        "                print(f'Epoch {e+1}/{epochs} | Batch {batches}')\n",
        "                print(f'Running Training Loss: {running_loss/print_every:.3f}')\n",
        "                print(f'Running Training Accuracy: {running_accuracy/print_every*100:.2f}%')\n",
        "                print(f'Validation Loss: {validation_loss/len(data_loaders[\"valid\"]):.3f}')\n",
        "                print(f'Validation Accuracy: {validation_accuracy/len(data_loaders[\"valid\"])*100:.2f}%')\n",
        "\n",
        "                running_loss = running_accuracy = 0\n",
        "                model.train()\n",
        "\n",
        "\n",
        "build_and_train_model()"
      ]
    },
    {
      "cell_type": "markdown",
      "metadata": {
        "id": "-PuEhQ3ISUMv"
      },
      "source": [
        "## Testing your network\n",
        "\n",
        "It's good practice to test your trained network on test data, images the network has never seen either in training or validation. This will give you a good estimate for the model's performance on completely new images. Run the test images through the network and measure the accuracy, the same way you did validation. You should be able to reach around 70% accuracy on the test set if the model has been trained well."
      ]
    },
    {
      "cell_type": "code",
      "execution_count": null,
      "metadata": {
        "id": "-ALS5u0lSUMw"
      },
      "outputs": [],
      "source": [
        "# Validating on the test set\n",
        "def validate_on_test_set():\n",
        "    import torch\n",
        "    start_time = time.time()\n",
        "    print('Validation started.')\n",
        "\n",
        "    test_accuracy = 0\n",
        "\n",
        "    for images, labels in data_loaders['test']:\n",
        "        model.eval()\n",
        "        images, labels = images.to(device), labels.to(device)\n",
        "        log_ps = model.forward(images)\n",
        "        ps = torch.exp(log_ps)\n",
        "        top_ps, top_class = ps.topk(1, dim=1)\n",
        "        matches = (top_class == labels.view(*top_class.shape)).type(torch.FloatTensor)\n",
        "        accuracy = matches.mean()\n",
        "        test_accuracy += accuracy\n",
        "\n",
        "    end_time = time.time()\n",
        "    print('Validation ended.')\n",
        "    validation_time = end_time - start_time\n",
        "    print('Validation time: {:.0f}m {:.0f}s'.format(validation_time / 60, validation_time % 60))\n",
        "\n",
        "    print(f'Test Accuracy: {test_accuracy/len(data_loaders[\"test\"])*100:.2f}%')\n",
        "\n",
        "\n",
        "validate_on_test_set()"
      ]
    },
    {
      "cell_type": "markdown",
      "metadata": {
        "id": "JG9B6u4xSUMw"
      },
      "source": [
        "## Save the checkpoint\n",
        "\n",
        "Now that your network is trained, save the model so you can load it later for making predictions. You probably want to save other things such as the mapping of classes to indices which you get from one of the image datasets: `image_datasets['train'].class_to_idx`. You can attach this to the model as an attribute which makes inference easier later on.\n",
        "\n",
        "```model.class_to_idx = image_datasets['train'].class_to_idx```\n",
        "\n",
        "Remember that you'll want to completely rebuild the model later so you can use it for inference. Make sure to include any information you need in the checkpoint. If you want to load the model and keep training, you'll want to save the number of epochs as well as the optimizer state, `optimizer.state_dict`. You'll likely want to use this trained model in the next part of the project, so best to save it now."
      ]
    },
    {
      "cell_type": "code",
      "execution_count": null,
      "metadata": {
        "id": "-CqCSIhsSUMw"
      },
      "outputs": [],
      "source": [
        "# Saving the checkpoint\n",
        "def save_checkpoint(model, filepath, class_to_idx):\n",
        "    checkpoint = {\n",
        "        'model_arch': 'vgg16_bn',\n",
        "        'clf_input': 25088,\n",
        "        'clf_output': len(class_to_idx),\n",
        "        'clf_hidden': 4096,\n",
        "        'state_dict': model.state_dict(),\n",
        "        'class_to_idx': class_to_idx\n",
        "    }\n",
        "\n",
        "    torch.save(checkpoint, filepath)\n",
        "\n",
        "\n",
        "save_checkpoint(model, 'flower_classifier_checkpoint.pth', datasets['train'].class_to_idx)"
      ]
    },
    {
      "cell_type": "markdown",
      "metadata": {
        "id": "mTF9FHCiSUMx"
      },
      "source": [
        "## Loading the checkpoint\n",
        "\n",
        "At this point it's good to write a function that can load a checkpoint and rebuild the model. That way you can come back to this project and keep working on it without having to retrain the network."
      ]
    },
    {
      "cell_type": "code",
      "execution_count": null,
      "metadata": {
        "id": "I_oeBuyMSUMx"
      },
      "outputs": [],
      "source": [
        "# Loading the checkpoint and rebuilding the model\n",
        "def load_checkpoint(filepath, device):\n",
        "    import torch\n",
        "\n",
        "    checkpoint = torch.load(filepath, map_location=device)\n",
        "\n",
        "    return checkpoint['model_arch'], checkpoint['clf_input'], checkpoint['clf_output'], checkpoint['clf_hidden'], \\\n",
        "           checkpoint['state_dict'], checkpoint['class_to_idx']\n",
        "\n",
        "model_arch, input_units, output_units, hidden_units, state_dict, class_to_idx = load_checkpoint('flower_classifier_checkpoint.pth', device)\n",
        "model.load_state_dict(state_dict)\n"
      ]
    },
    {
      "cell_type": "markdown",
      "metadata": {
        "id": "qbotV9YDSUMx"
      },
      "source": [
        "# Inference for classification\n",
        "\n",
        "Now you'll write a function to use a trained network for inference. That is, you'll pass an image into the network and predict the class of the flower in the image. Write a function called `predict` that takes an image and a model, then returns the top $K$ most likely classes along with the probabilities. It should look like\n",
        "\n",
        "```python\n",
        "probs, classes = predict(image_path, model)\n",
        "print(probs)\n",
        "print(classes)\n",
        "> [ 0.01558163  0.01541934  0.01452626  0.01443549  0.01407339]\n",
        "> ['70', '3', '45', '62', '55']\n",
        "```\n",
        "\n",
        "First you'll need to handle processing the input image such that it can be used in your network.\n",
        "\n",
        "## Image Preprocessing\n",
        "\n",
        "You'll want to use `PIL` to load the image ([documentation](https://pillow.readthedocs.io/en/latest/reference/Image.html)). It's best to write a function that preprocesses the image so it can be used as input for the model. This function should process the images in the same manner used for training.\n",
        "\n",
        "First, resize the images where the shortest side is 256 pixels, keeping the aspect ratio. This can be done with the [`thumbnail`](http://pillow.readthedocs.io/en/3.1.x/reference/Image.html#PIL.Image.Image.thumbnail) or [`resize`](http://pillow.readthedocs.io/en/3.1.x/reference/Image.html#PIL.Image.Image.thumbnail) methods. Then you'll need to crop out the center 224x224 portion of the image.\n",
        "\n",
        "Color channels of images are typically encoded as integers 0-255, but the model expected floats 0-1. You'll need to convert the values. It's easiest with a Numpy array, which you can get from a PIL image like so `np_image = np.array(pil_image)`.\n",
        "\n",
        "As before, the network expects the images to be normalized in a specific way. For the means, it's `[0.485, 0.456, 0.406]` and for the standard deviations `[0.229, 0.224, 0.225]`. You'll want to subtract the means from each color channel, then divide by the standard deviation.\n",
        "\n",
        "And finally, PyTorch expects the color channel to be the first dimension but it's the third dimension in the PIL image and Numpy array. You can reorder dimensions using [`ndarray.transpose`](https://docs.scipy.org/doc/numpy-1.13.0/reference/generated/numpy.ndarray.transpose.html). The color channel needs to be first and retain the order of the other two dimensions."
      ]
    },
    {
      "cell_type": "code",
      "execution_count": null,
      "metadata": {
        "id": "-rLcGrLlSUMx"
      },
      "outputs": [],
      "source": [
        "# Preprocessing an image for prediction\n",
        "def process_image(image_path):\n",
        "    from PIL import Image\n",
        "    import numpy as np\n",
        "    import torch\n",
        "    from torchvision import transforms\n",
        "\n",
        "    image = Image.open(image_path)\n",
        "    preprocess = transforms.Compose([\n",
        "        transforms.Resize(255),\n",
        "        transforms.CenterCrop(224),\n",
        "        transforms.ToTensor(),\n",
        "        transforms.Normalize(mean=[0.485, 0.456, 0.406], std=[0.229, 0.224, 0.225])\n",
        "    ])\n",
        "    image = preprocess(image).unsqueeze(0)\n",
        "    return image"
      ]
    },
    {
      "cell_type": "markdown",
      "metadata": {
        "id": "8rGJjbqMSUMy"
      },
      "source": [
        "To check your work, the function below converts a PyTorch tensor and displays it in the notebook. If your `process_image` function works, running the output through this function should return the original image (except for the cropped out portions)."
      ]
    },
    {
      "cell_type": "code",
      "execution_count": null,
      "metadata": {
        "id": "jDkecKoLSUMy"
      },
      "outputs": [],
      "source": [
        "def imshow(image, ax=None, title=None):\n",
        "    if ax is None:\n",
        "        fig, ax = plt.subplots()\n",
        "        plt.tick_params(\n",
        "            axis='both',\n",
        "            which='both',\n",
        "            bottom=False,\n",
        "            top=False,\n",
        "            left=False,\n",
        "            labelbottom=False,\n",
        "            labelleft=False,)\n",
        "\n",
        "    # We need to move the color channel from the first dimension to the third dimension.\n",
        "    # PyTorch expects color to be in the 1st dim, but PIL expects it to be in the 3rd!\n",
        "    image = image.transpose((1, 2, 0))\n",
        "\n",
        "    # undoes preprocessing\n",
        "    mean = np.array([0.485, 0.456, 0.406])\n",
        "    std = np.array([0.229, 0.224, 0.225])\n",
        "    image = std * image + mean\n",
        "\n",
        "    # image needs to be clipped between 0 and 1\n",
        "    # otherwise it looks like noise when displayed\n",
        "    image = np.clip(image, 0, 1)\n",
        "\n",
        "    ax.imshow(image)\n",
        "\n",
        "    return ax"
      ]
    },
    {
      "cell_type": "code",
      "execution_count": null,
      "metadata": {
        "id": "_AysoQ-aSUMy"
      },
      "outputs": [],
      "source": [
        "practice_img = './flowers/test/70/image_06186.jpg'\n",
        "\n",
        "# displays original image\n",
        "processed_image = Image.open(practice_img)\n",
        "processed_image\n",
        "\n",
        "\n",
        "# displays preprocessed image\n",
        "imshow(process_image(practice_img))"
      ]
    },
    {
      "cell_type": "markdown",
      "metadata": {
        "id": "4tPO73CRSUMy"
      },
      "source": [
        "## Class Prediction\n",
        "\n",
        "Once you can get images in the correct format, it's time to write a function for making predictions with your model. A common practice is to predict the top 5 or so (usually called top-$K$) most probable classes. You'll want to calculate the class probabilities then find the $K$ largest values.\n",
        "\n",
        "To get the top $K$ largest values in a tensor use [`x.topk(k)`](http://pytorch.org/docs/master/torch.html#torch.topk). This method returns both the highest `k` probabilities and the indices of those probabilities corresponding to the classes. You need to convert from these indices to the actual class labels using `class_to_idx` which hopefully you added to the model or from an `ImageFolder` you used to load the data ([see here](#Save-the-checkpoint)). Make sure to invert the dictionary so you get a mapping from index to class as well.\n",
        "\n",
        "Again, this method should take a path to an image and a model checkpoint, then return the probabilities and classes.\n",
        "\n",
        "```python\n",
        "probs, classes = predict(image_path, model)\n",
        "print(probs)\n",
        "print(classes)\n",
        "> [ 0.01558163  0.01541934  0.01452626  0.01443549  0.01407339]\n",
        "> ['70', '3', '45', '62', '55']\n",
        "```"
      ]
    },
    {
      "cell_type": "code",
      "execution_count": null,
      "metadata": {
        "id": "RuYkfvKuSUMy"
      },
      "outputs": [],
      "source": [
        "# Making predictions on an image\n",
        "def predict(image_path, model, idx_to_class, topk=5):\n",
        "    image = process_image(image_path)\n",
        "    model.eval()\n",
        "    outputs = model(image)\n",
        "    ps = torch.exp(outputs)\n",
        "    top_ps, top_class = ps.topk(topk, dim=1)\n",
        "    top_ps = top_ps.squeeze().tolist()\n",
        "    top_class = [idx_to_class[idx] for idx in top_class.squeeze().tolist()]\n",
        "    return top_ps, top_class\n",
        "\n",
        "\n",
        "image_path = './flowers/test/70/image_05331.jpg'\n",
        "top_ps, top_class = predict(image_path, model, {v: k for k, v in datasets['train'].class_to_idx.items()})"
      ]
    },
    {
      "cell_type": "markdown",
      "metadata": {
        "id": "Ek9gK4bWSUMz"
      },
      "source": [
        "## Sanity Checking\n",
        "\n",
        "Now that you can use a trained model for predictions, check to make sure it makes sense. Even if the testing accuracy is high, it's always good to check that there aren't obvious bugs. Use `matplotlib` to plot the probabilities for the top 5 classes as a bar graph, along with the input image. It should look like this:\n",
        "\n",
        "<img src='https://github.com/SOG-web/udacity_image_classifier_project/blob/main/assets/inference_example.png?raw=1' width=300px>\n",
        "\n",
        "You can convert from the class integer encoding to actual flower names with the `cat_to_name.json` file (should have been loaded earlier in the notebook). To show a PyTorch tensor as an image, use the `imshow` function defined above."
      ]
    },
    {
      "cell_type": "code",
      "execution_count": null,
      "metadata": {
        "id": "7OC2IG0PSUMz"
      },
      "outputs": [],
      "source": [
        "# Displaying predictions\n",
        "def display_prediction(image_path, probs, classes, cat_to_name):\n",
        "    import matplotlib.pyplot as plt\n",
        "    import matplotlib.image as mpimg\n",
        "\n",
        "    fig, (ax1, ax2) = plt.subplots(figsize=(6, 9), nrows=2)\n",
        "    img = mpimg.imread(image_path)\n",
        "    ax1.imshow(img)\n",
        "    ax1.axis('off')\n",
        "\n",
        "    ax2.barh(np.arange(len(classes)), probs)\n",
        "    ax2.set_aspect(0.1)\n",
        "    ax2.set_yticks(np.arange(len(classes)))\n",
        "    ax2.set_yticklabels([cat_to_name[class_idx] for class_idx in classes], size='medium');\n",
        "    ax2.set_title('Class Probability')\n",
        "    ax2.set_xlim(0, 1.1)\n",
        "\n",
        "    plt.tight_layout()\n",
        "\n",
        "display_prediction(image_path, top_ps, top_class, cat_to_name)"
      ]
    }
  ],
  "metadata": {
    "kernelspec": {
      "display_name": "Python 3",
      "name": "python3"
    },
    "language_info": {
      "codemirror_mode": {
        "name": "ipython",
        "version": 3
      },
      "file_extension": ".py",
      "mimetype": "text/x-python",
      "name": "python",
      "nbconvert_exporter": "python",
      "pygments_lexer": "ipython3",
      "version": "3.11.5"
    },
    "colab": {
      "provenance": []
    }
  },
  "nbformat": 4,
  "nbformat_minor": 0
}